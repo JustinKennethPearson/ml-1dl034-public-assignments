{
 "cells": [
  {
   "cell_type": "markdown",
   "metadata": {
    "id": "eTrDfRyQERZF"
   },
   "source": [
    "# Practical Notebook 1      \n",
    "PLEASE NOTE, the assignments throughout the course are designed to be solved by searching online.  \n",
    "\n",
    "If you have questions about a function, try to Google it or run the command you want more information from with the question mark, `?` in front of it\n"
   ]
  },
  {
   "cell_type": "markdown",
   "metadata": {
    "id": "FAKsDsD-EYA7"
   },
   "source": [
    "## Introduction to Python and Jupyter Notebook   \n",
    "The purpose of this lab is to familiarize oneself with the basics of Python, working with the interactive environment Jupyter Notebooks, as well as some introductory problems with regards to matrix operations, loading data, and plotting. Python is extensively used in machine learning applications.   \n",
    "\n",
    "Jupyter Notebook is an interactive environment for executing Python code (among other languages). These notebooks are executed in sequential order and consist of text and code blocks. Pressing `shift + enter` or the `play` arrow to the left will execute one segment at a time and move one down to the next segment. If you are running a notebook with Google Colab, the notebook will be inactive if no work is executed.\n",
    "  \n",
    "Below are presented some examples of Python code some commonly applicable operations."
   ]
  },
  {
   "cell_type": "markdown",
   "metadata": {
    "id": "-_nB0dc6hnC0"
   },
   "source": [
    "### Print statements\n",
    "Print statements in pythons can be done in multiple ways. Below are listed some of the common methods for printing variables in Python"
   ]
  },
  {
   "cell_type": "code",
   "execution_count": null,
   "metadata": {
    "colab": {
     "base_uri": "https://localhost:8080/"
    },
    "id": "0TQzszInX9nF",
    "outputId": "2dfe0b72-d3f7-4bb7-e22b-659a0a398232"
   },
   "outputs": [],
   "source": [
    "# The various ways for printing values in Python\n",
    "answer = 42\n",
    "print(\"The answer is\", answer)\n",
    "print(\"The answer is \" + str(answer))\n",
    "print(\"The answer is %s\" % answer)\n",
    "print(f\"The answer is {answer}\")\n",
    "\n",
    "# Printing special character\n",
    "print(\"\\nItem 1 \\nItem 2\\n\")"
   ]
  },
  {
   "cell_type": "markdown",
   "metadata": {
    "id": "jBNWOuhJh6R-"
   },
   "source": [
    "### Math functions\n"
   ]
  },
  {
   "cell_type": "code",
   "execution_count": null,
   "metadata": {
    "colab": {
     "base_uri": "https://localhost:8080/"
    },
    "id": "KqmwFjxcdYe8",
    "outputId": "30d0db81-35aa-4147-efdc-fe5420bd93c3"
   },
   "outputs": [],
   "source": [
    "# Math functions\n",
    "answer = 42.62\n",
    "print(\"Answer = %.2f with two decimals\" % answer)\n",
    "print(f\"Answer = {answer:.2f} with two decimals\\n\")\n",
    "\n",
    "# Division\n",
    "print(\"5/2 =\", 5/2)\n",
    "print(\"5//2 =\", 5//2)\n",
    "\n",
    "# Rounding\n",
    "print(\"\\nRounding numbers\", int(answer))\n",
    "print(\"Rounding numbers\", round(answer))"
   ]
  },
  {
   "cell_type": "markdown",
   "metadata": {
    "id": "U3BY3qxHkoY5"
   },
   "source": [
    "### Lists\n",
    "One of the most common data types used in Python are lists. Lists can expand or shrink dynamically and contain any data type. "
   ]
  },
  {
   "cell_type": "code",
   "execution_count": null,
   "metadata": {
    "colab": {
     "base_uri": "https://localhost:8080/"
    },
    "id": "P_1mgkCCZbBt",
    "outputId": "0afd5b85-5a17-4783-8bad-d52f8fae11a1"
   },
   "outputs": [],
   "source": [
    "# Inserting into an empty list\n",
    "generic_list = []\n",
    "generic_list.append((42, \"Answer\", True))\n",
    "print(generic_list)\n",
    "\n",
    "# Generating a list up to a range\n",
    "ranged_list = list(range(1, 5))\n",
    "print(\"\\nRanged based list:\", ranged_list)"
   ]
  },
  {
   "cell_type": "markdown",
   "metadata": {
    "id": "hzgQRCGmrHPq"
   },
   "source": [
    "Indexing of a list starts at 0 in python"
   ]
  },
  {
   "cell_type": "code",
   "execution_count": null,
   "metadata": {
    "colab": {
     "base_uri": "https://localhost:8080/"
    },
    "id": "Tsf3TkhSm9tU",
    "outputId": "f99fa358-d4ae-433e-95aa-8f8165eb33f7"
   },
   "outputs": [],
   "source": [
    "# Retrieving elements from a list\n",
    "generic_list = [0, 1, 2, 3, 4, 5, 6]\n",
    "print(\"generic_list[0] =\", generic_list[0])"
   ]
  },
  {
   "cell_type": "markdown",
   "metadata": {
    "id": "FQCO-ytsr6xv"
   },
   "source": [
    "... and can be done in reverse order"
   ]
  },
  {
   "cell_type": "code",
   "execution_count": null,
   "metadata": {
    "colab": {
     "base_uri": "https://localhost:8080/"
    },
    "id": "LKST6TKjsFZv",
    "outputId": "0db4868c-673d-4c37-8043-a450f449dc3e"
   },
   "outputs": [],
   "source": [
    "print(\"generic_list[-1] =\", generic_list[-1])"
   ]
  },
  {
   "cell_type": "markdown",
   "metadata": {
    "id": "HZcKjS-QsSSP"
   },
   "source": [
    "We can also extract slices of a list"
   ]
  },
  {
   "cell_type": "code",
   "execution_count": null,
   "metadata": {
    "colab": {
     "base_uri": "https://localhost:8080/"
    },
    "id": "ay7exxUcsvsg",
    "outputId": "b820db20-fe4c-474c-e556-562b1debc15a"
   },
   "outputs": [],
   "source": [
    "print(\"Print elements in index 1-5:\", generic_list[1:5])\n",
    "print(\"Print all elements up to index 5:\", generic_list[:5])"
   ]
  },
  {
   "cell_type": "code",
   "execution_count": null,
   "metadata": {
    "colab": {
     "base_uri": "https://localhost:8080/"
    },
    "id": "xiPA8E6VsYOQ",
    "outputId": "f2f21a6f-8c0b-4204-c0bf-78fa8f87f479"
   },
   "outputs": [],
   "source": [
    "print(\"Every other element in a list:\", generic_list[::2])"
   ]
  },
  {
   "cell_type": "markdown",
   "metadata": {
    "id": "JI0evug7qhU1"
   },
   "source": [
    "#### Assignment 1a)"
   ]
  },
  {
   "cell_type": "code",
   "execution_count": null,
   "metadata": {
    "colab": {
     "base_uri": "https://localhost:8080/"
    },
    "id": "LSMzhuEGtJHk",
    "outputId": "47e91ff1-c74b-4821-8d19-ec2698a3b308"
   },
   "outputs": [],
   "source": [
    "# ASSIGNMENT \n",
    "# print every odd number of the list\n",
    "\n"
   ]
  },
  {
   "cell_type": "markdown",
   "metadata": {
    "id": "vNKSNOqtm5YU"
   },
   "source": [
    "Lists can also be nested in other lists"
   ]
  },
  {
   "cell_type": "code",
   "execution_count": null,
   "metadata": {
    "colab": {
     "base_uri": "https://localhost:8080/"
    },
    "id": "tRCqgru8tdiM",
    "outputId": "b3a03ef7-df33-4308-c1ce-d324c6d49f6f"
   },
   "outputs": [],
   "source": [
    "double_list = [[1, 2, 3], [\"Bert\", \"Elmo\", \"Big Bird\"]]\n",
    "print(double_list)\n",
    "print(double_list[1])\n",
    "print(double_list[1][1])"
   ]
  },
  {
   "cell_type": "markdown",
   "metadata": {
    "id": "IdCHIalNwJJW"
   },
   "source": [
    "#### Built in list functions\n",
    "min, max, concatenating lists, insertion, removal"
   ]
  },
  {
   "cell_type": "code",
   "execution_count": null,
   "metadata": {
    "colab": {
     "base_uri": "https://localhost:8080/"
    },
    "id": "cDM0H4mBwIZB",
    "outputId": "7776a434-a1b9-4911-c105-09e060f14dea"
   },
   "outputs": [],
   "source": [
    "generic_list = [1, 932, 77, 52, 2]\n",
    "print(\"min(generic_list) =\", min(generic_list))\n",
    "print(\"max(generic_list) =\", max(generic_list))\n",
    "print(\"sum(generic_list) =\", sum(generic_list))\n",
    "print()\n",
    "\n",
    "concatenated_list = [\"Bert\", \"Elmo\"] + [\"Big Bird\"]\n",
    "print(concatenated_list)\n",
    "\n",
    "# append\n",
    "concatenated_list.append(\"Erni\")\n",
    "print(concatenated_list)\n",
    "\n",
    "# insert at index\n",
    "concatenated_list.insert(1, \"The Count\")\n",
    "print(concatenated_list)\n",
    "\n",
    "# remove based on index\n",
    "concatenated_list.pop(3)\n",
    "print(concatenated_list)\n",
    "\n",
    "# remove value from list\n",
    "concatenated_list.remove(\"Erni\")\n",
    "print(concatenated_list)\n",
    "\n",
    "# verify if an element is in a list\n",
    "Bert_in_list = \"Bert\" in concatenated_list\n",
    "print(\"\\nBert is in the list? \", Bert_in_list)\n"
   ]
  },
  {
   "cell_type": "markdown",
   "metadata": {
    "id": "ZqnpfeJDwX4T"
   },
   "source": [
    "#### Ranged based loops on lists"
   ]
  },
  {
   "cell_type": "code",
   "execution_count": null,
   "metadata": {
    "colab": {
     "base_uri": "https://localhost:8080/"
    },
    "id": "2X97UmE-JCki",
    "outputId": "403c177c-02b9-4633-86c7-4c1a3187d0df"
   },
   "outputs": [],
   "source": [
    "# Range based for loop\n",
    "length = 5\n",
    "for i in range(length):\n",
    "    print(f\"{i} x 2 = {i*2}\")\n"
   ]
  },
  {
   "cell_type": "code",
   "execution_count": null,
   "metadata": {
    "colab": {
     "base_uri": "https://localhost:8080/"
    },
    "id": "ULMrWwijUcB1",
    "outputId": "a2baa8a4-38fc-4ad6-c9fc-5457d88e24d9"
   },
   "outputs": [],
   "source": [
    "# Non pythonic way of printing a list\n",
    "name_list = [\"Ada Lovelace\", \"Alan Turing\", \"Grace Hopper\"]\n",
    "for i in range(len(name_list)):\n",
    "    print(name_list[i], \"a pioneer in computer science\")"
   ]
  },
  {
   "cell_type": "code",
   "execution_count": null,
   "metadata": {
    "colab": {
     "base_uri": "https://localhost:8080/"
    },
    "id": "dueiNOWGH931",
    "outputId": "bf3c4736-8dca-4fef-c998-fdd2b1226e32"
   },
   "outputs": [],
   "source": [
    "# Printing a list\n",
    "# Assignment: print content of the list with out the `range` function\n",
    "name_list = [\"Ada Lovelace\", \"Alan Turing\", \"Grace Hopper\"]\n",
    "for i in name_list:\n",
    "    print(i, \"a pioneer in computer science\")"
   ]
  },
  {
   "cell_type": "code",
   "execution_count": null,
   "metadata": {
    "colab": {
     "base_uri": "https://localhost:8080/"
    },
    "id": "TS8-k2LG27je",
    "outputId": "a3a45342-27f5-45ff-ed51-06e7ff26767f"
   },
   "outputs": [],
   "source": [
    "# There are multiple ways to do a ranged based for loop in Python\n",
    "name_list = [\"Ada Lovelace\", \"Alan Turing\", \"Grace Hopper\"]\n",
    "for i in range(1, (len(name_list)+1)):\n",
    "    print(i, name_list[i-1])\n",
    "print()\n",
    "\n",
    "name_list = [\"Ada Lovelace\", \"Alan Turing\", \"Grace Hopper\"]\n",
    "index_list = [1, 2, 3]\n",
    "for i, name in zip(index_list, name_list):\n",
    "    print(i, name)\n",
    "print()\n",
    "\n",
    "name_list = [\"Ada Lovelace\", \"Alan Turing\", \"Grace Hopper\"]\n",
    "for i, name in enumerate(name_list):\n",
    "    print(i+1, name)\n",
    "print()"
   ]
  },
  {
   "cell_type": "markdown",
   "metadata": {
    "id": "pp_KPyD4qs0e"
   },
   "source": [
    "#### Assignment 1b)"
   ]
  },
  {
   "cell_type": "code",
   "execution_count": null,
   "metadata": {
    "colab": {
     "base_uri": "https://localhost:8080/"
    },
    "id": "opU78itC3cCG",
    "outputId": "83600bf6-64cf-4a1e-c04d-38371e8d1107"
   },
   "outputs": [],
   "source": [
    "# ASSIGNMENT:\n",
    "# sort the \"generic_list\" in ascending order and print it.\n",
    "\n",
    "generic_list = [1, 932, 77, 52, 2]\n",
    "# YOUR CODE HERE\n",
    "# Hint: There is a sorting function in python that will do this. Google it."
   ]
  },
  {
   "cell_type": "markdown",
   "metadata": {
    "id": "pVCpl9P01L6E"
   },
   "source": [
    "### Sets\n",
    "Sets are effective methods for filtering a collection of duplicate values\n"
   ]
  },
  {
   "cell_type": "markdown",
   "metadata": {
    "id": "kT0P_k6yq6wS"
   },
   "source": [
    "#### Assignment 1c)"
   ]
  },
  {
   "cell_type": "code",
   "execution_count": null,
   "metadata": {
    "colab": {
     "base_uri": "https://localhost:8080/"
    },
    "id": "MPNTEYLdXjlS",
    "outputId": "c33f2232-156a-45d5-b5ec-97997af6e801"
   },
   "outputs": [],
   "source": [
    "lst1 = [0, 1, 3, 5, 6, 7, 5, 8, 9, 10, 12]\n",
    "lst2 = [1, 2, 2, 1, 2, 4, 5, 8, 2, 13, 9, 11]\n",
    "\n",
    "# ASSIGNMENT:\n",
    "# a) print the union of elements between the two lists,\n",
    "#    i.e. all the elements should be included once.\n",
    "# b) print the intersection of elements between the two lists,\n",
    "#    i.e. the elements that appear in both lists.\n",
    "#\n",
    "# HINT: look into `sets` in Python\n",
    "\n",
    "# YOUR CODE HERE"
   ]
  },
  {
   "cell_type": "markdown",
   "metadata": {
    "id": "6ucvMYNy4cEc"
   },
   "source": [
    "### functions\n",
    "Functions in can return multiple objects from a function. The results can either be retrieved as a tuple and specify an index or as individual values"
   ]
  },
  {
   "cell_type": "markdown",
   "metadata": {
    "id": "AmVCK0NdrMNh"
   },
   "source": [
    "#### Assignment 1d)"
   ]
  },
  {
   "cell_type": "code",
   "execution_count": null,
   "metadata": {
    "id": "t7Ch1nH-Ua0m"
   },
   "outputs": [],
   "source": [
    "\n",
    "# ASSIGNMENT:\n",
    "# Write a function that will return from a list:\n",
    "#   1. The highest\n",
    "#   2. The lowest\n",
    "#   3. The first\n",
    "#   4. The last elements from a list\n",
    "\n",
    "def our_custom_function(lst):\n",
    "    # YOUR CODE HERE\n",
    "    pass\n",
    "\n",
    "\n",
    "lst = [6, 90, 42, -1, 45]\n",
    "\n",
    "highest, lowest, first, last = our_custom_function(lst)\n",
    "\n",
    "assert highest == 90\n",
    "assert lowest == -1\n",
    "assert first == 6\n",
    "assert last == 45\n"
   ]
  },
  {
   "cell_type": "markdown",
   "metadata": {
    "id": "ttLhTisqrRAn"
   },
   "source": [
    "#### Assignment 1e)"
   ]
  },
  {
   "cell_type": "code",
   "execution_count": null,
   "metadata": {
    "colab": {
     "base_uri": "https://localhost:8080/"
    },
    "id": "iRpPSnAHBw7A",
    "outputId": "ce2f3bec-43b3-41ba-8b49-1017f96d3894"
   },
   "outputs": [],
   "source": [
    "# List comprehension\n",
    "squared = [x**2 for x in range(10)]\n",
    "print(\"Squared list:  \\t\\t\\t \", squared)\n",
    "\n",
    "# ASSIGNMENT: \n",
    "# Generate a list of the 20 Fibonacci numbers, \n",
    "#    BUT exclude all odd numbers Fibonacci numbers\n",
    "\n",
    "def fib(n):\n",
    "    if n <= 1:\n",
    "        return 1\n",
    "    else:\n",
    "        return fib(n-1) + fib(n-2)\n",
    "\n",
    "# Make sure here you use list comprehension. Find out more about list comprehension from: https://www.w3schools.com/python/python_lists_comprehension.asp\n",
    "lst = [\"\"\"TODO YOUR CODE HERE\"\"\"]\n",
    "\n",
    "assert lst == [2, 8, 34, 144, 610, 2584]"
   ]
  },
  {
   "cell_type": "markdown",
   "metadata": {
    "id": "2wVVgiDUfu8h"
   },
   "source": [
    "## Python and Libraries\n",
    "Much like Node, Ruby, and similar languages; Python as language attempts to have a small and extendable library of core functions, where extra functionality can be extended with core libraries or external libraries.  \n",
    "  \n",
    "  \n",
    "**IF** are executing a Jupyter Notebook or Python code locally on your computer, we strongly suggest you create and activate a virtual environment for installing your packages such as NumPy, pandas, matplotlib, or similar. This is to ensure that the packages installed to execute this lab do not override previously installed Python libraries. To install packages, we recommend using the [Anaconda distribution](https://www.anaconda.com/products/individual) or [Python pip](https://packaging.python.org/tutorials/installing-packages/). See this small [python guide](https://user.it.uu.se/~justin/Hugo/post/python_notebooks_ml/) about how to set up python notebooks locally."
   ]
  },
  {
   "cell_type": "markdown",
   "metadata": {
    "id": "_M1Vxbcs-Ume"
   },
   "source": [
    "## NumPy"
   ]
  },
  {
   "cell_type": "markdown",
   "metadata": {
    "id": "s2HZDU-5Gw7h"
   },
   "source": [
    "NumPy is an external Python library for matrix and vector operations. This means that the library needs to be installed and imported. If you are using a Jupyter Notebook or a plain Python file you may need to install NumPy. In Google Colab, NumPy and other commonly used libraries are pre-installed. Please note that a Python list is not the same as a vector or matrix. "
   ]
  },
  {
   "cell_type": "markdown",
   "metadata": {
    "id": "8CH_GK2ELGy1"
   },
   "source": [
    "Below is an illustration of how NumPy can be used to illustrate the mathematics of the Mandelbrot set. We use it as a motivating example of what is possible to do with NumPy and other libraries."
   ]
  },
  {
   "cell_type": "code",
   "execution_count": null,
   "metadata": {
    "colab": {
     "base_uri": "https://localhost:8080/",
     "height": 503
    },
    "id": "cUs6OztlLpZh",
    "outputId": "769af331-45ad-403b-fda7-d335cd6801d7"
   },
   "outputs": [],
   "source": [
    "import numpy as np\n",
    "import matplotlib.pyplot as plt\n",
    "\n",
    "def mandelbrot(h=400, w=400, max_iter=20):\n",
    "    \"\"\"Returns an image of the Mandelbrot fractal of size (h,w).\"\"\"\n",
    "    y, x = np.ogrid[-1.4:1.4:h*1j, -2:0.8:w*1j]\n",
    "    c = x + y * 1j\n",
    "    z = c\n",
    "    divtime = max_iter + np.zeros(z.shape, dtype=int)\n",
    "\n",
    "    for i in range(max_iter):\n",
    "        z = z**2 + c\n",
    "        diverge = z * np.conj(z) > 2**2             # who is diverging\n",
    "        div_now = diverge & (divtime == max_iter)   # who is diverging now\n",
    "        divtime[div_now] = i                        # note when\n",
    "        z[diverge] = 2                              # avoid diverging too much\n",
    "\n",
    "    return divtime\n",
    "\n",
    "plt.figure(figsize=(8,8)) # change the sizes to view the figure more easily\n",
    "plt.imshow(mandelbrot(400, 400, 100), cmap='twilight_shifted')\n",
    "plt.show()"
   ]
  },
  {
   "cell_type": "markdown",
   "metadata": {
    "id": "o4Y2iufOj-7f"
   },
   "source": [
    "An installed library can be imported  \n",
    "`import numpy`.     \n",
    "\n",
    "  \n",
    "A library can be imported with an alias  \n",
    "`import numpy as np`"
   ]
  },
  {
   "cell_type": "code",
   "execution_count": null,
   "metadata": {
    "id": "cn_EaD_mv53b"
   },
   "outputs": [],
   "source": [
    "import numpy as np"
   ]
  },
  {
   "cell_type": "markdown",
   "metadata": {
    "id": "6UdY53tiLRLG"
   },
   "source": [
    "The NumPy library is mainly written in C and wrapped in Python for ease of use."
   ]
  },
  {
   "cell_type": "code",
   "execution_count": null,
   "metadata": {
    "colab": {
     "base_uri": "https://localhost:8080/"
    },
    "id": "m8EPsYU3wx9t",
    "outputId": "2a54e40e-be95-4baf-9caf-a26cb395058a"
   },
   "outputs": [],
   "source": [
    "# Creates a vector of ones\n",
    "vec = np.array([1, 2, 3])\n",
    "\n",
    "# Vectors and lists support mathematical operations differently!\n",
    "lst = [1, 2, 3]\n",
    "print(\"2*lst:\", 2*lst) \n",
    "assert len(2*lst) == 6\n",
    "\n",
    "print(\"2*vec:\", 2*vec)\n",
    "assert len(2*vec) == 3"
   ]
  },
  {
   "cell_type": "code",
   "execution_count": null,
   "metadata": {
    "colab": {
     "base_uri": "https://localhost:8080/"
    },
    "id": "a7L8xR565S2D",
    "outputId": "18306796-0091-464b-d411-973ea59fb8a1"
   },
   "outputs": [],
   "source": [
    "# One dimensional arrays\n",
    "zeros = np.zeros(4)\n",
    "print(zeros)\n",
    "\n",
    "ranged = np.arange(4)\n",
    "print(ranged)\n",
    "\n",
    "ranged = np.linspace(0, 1, 4)\n",
    "print(ranged)\n",
    "\n",
    "custom = np.array([1, 7, 9, 3])\n",
    "print(custom)\n",
    "\n",
    "# Creating arrays from lists\n",
    "custom = np.array([5, 42, 82])\n",
    "print(custom)"
   ]
  },
  {
   "cell_type": "markdown",
   "metadata": {
    "id": "zZWawcPKHQvg"
   },
   "source": [
    "Making multidimensional arrays"
   ]
  },
  {
   "cell_type": "code",
   "execution_count": null,
   "metadata": {
    "colab": {
     "base_uri": "https://localhost:8080/"
    },
    "id": "WEM9j4Lv6ET8",
    "outputId": "bff87a5e-576d-4983-a949-577ef1a8d4fd"
   },
   "outputs": [],
   "source": [
    "# From the start\n",
    "multi_arr = np.ones([3, 2])\n",
    "print(multi_arr)\n",
    "print()\n",
    "\n",
    "\n",
    "# Or manually assign the shape\n",
    "multi_arr = np.array([[1,1],\n",
    "                      [1,1],\n",
    "                      [1,1]]).astype(np.float32)\n",
    "print(multi_arr)"
   ]
  },
  {
   "cell_type": "markdown",
   "metadata": {
    "id": "Mpg3og4HiZ76"
   },
   "source": [
    "Arrays can also be stacked together"
   ]
  },
  {
   "cell_type": "code",
   "execution_count": null,
   "metadata": {
    "colab": {
     "base_uri": "https://localhost:8080/"
    },
    "id": "Cj_kuh7sifpX",
    "outputId": "cddeeba7-af16-4017-c329-1c519c6563e1"
   },
   "outputs": [],
   "source": [
    "arr = np.array([[1, 2, 3], \n",
    "                [4, 5, 6]])\n",
    "stacked_horizontal = np.hstack((arr, arr))\n",
    "print(stacked_horizontal)\n",
    "print()\n",
    "\n",
    "stacked_vertically = np.vstack((arr, arr))\n",
    "print(stacked_vertically)"
   ]
  },
  {
   "cell_type": "markdown",
   "metadata": {
    "id": "jVA3kIVBromL"
   },
   "source": [
    "#### Assignment 1f)"
   ]
  },
  {
   "cell_type": "code",
   "execution_count": null,
   "metadata": {
    "colab": {
     "base_uri": "https://localhost:8080/"
    },
    "id": "hhMGlS5eXWYm",
    "outputId": "6f6234d2-2f2e-4689-f5e0-d681397000b4"
   },
   "outputs": [],
   "source": [
    "import numpy as np\n",
    "\n",
    "arr = np.array([1, 2, 3, 4, 5, 6])\n",
    "print(f'shape before: {arr.shape}')\n",
    "print(f'dimension before: {arr.ndim}')\n",
    "\n",
    "# ASSIGNMENT\n",
    "# extend or reshape the 1D array into a 2D array - LOOKUP ONLINE\n",
    "# i.e. it should have the shape (1,6).\n",
    "\n",
    "# YOUR CODE HERE\n",
    "\n",
    "print(f'\\nshape after: {arr.shape}')\n",
    "print(f'dimension after: {arr.ndim}')\n",
    "\n",
    "assert arr.ndim == 2\n",
    "assert arr.shape[0] == 1 and arr.shape[1] == 6 \n",
    "\n",
    "# Feel free to reshape the array to other dimensions as well"
   ]
  },
  {
   "cell_type": "markdown",
   "metadata": {
    "id": "9SOgNtRlsHFR"
   },
   "source": [
    "Transposing an array"
   ]
  },
  {
   "cell_type": "code",
   "execution_count": null,
   "metadata": {
    "colab": {
     "base_uri": "https://localhost:8080/"
    },
    "id": "rRRObMs759HF",
    "outputId": "3091dd60-883c-4f30-db10-15ce71bdf097"
   },
   "outputs": [],
   "source": [
    "# Transposing a matrix\n",
    "multi_arr = np.array([[1, 2, 3],\n",
    "                      [4, 5, 6]])\n",
    "print(\"A =\\n\", multi_arr)\n",
    "\n",
    "\n",
    "multi_arr_transp = multi_arr.T\n",
    "multi_arr_transp = np.transpose(multi_arr)\n",
    "\n",
    "print(\"\\nA.T =\\n\", multi_arr_transp)\n"
   ]
  },
  {
   "cell_type": "markdown",
   "metadata": {
    "id": "yCwrc6s-KIOn"
   },
   "source": [
    "We can also perform the expected mathematical operation on arrays"
   ]
  },
  {
   "cell_type": "code",
   "execution_count": null,
   "metadata": {
    "id": "1amARhhKKG7X"
   },
   "outputs": [],
   "source": [
    "arr = np.array([1, 2, 3, 4])\n",
    "\n",
    "# Addition\n",
    "print(\"Add one to array\", arr + 1)\n",
    "\n",
    "# Multiplication\n",
    "print(\"Multiply array by 2\", arr*2)\n",
    "\n",
    "# Division\n",
    "print(\"Divide array by 2\", arr/2)\n",
    "\n",
    "# Raised to some power\n",
    "print(\"Log of an array\", np.power(arr, 2))\n",
    "\n",
    "# Logarithm\n",
    "print(\"Log of an array\", np.log(arr))\n",
    "print(\"Log2 of an array\", np.log2(arr))\n",
    "print(\"Log2 of an array\", np.log(arr)/np.log(2))\n"
   ]
  },
  {
   "cell_type": "markdown",
   "metadata": {
    "id": "hX5UoEFxo9m1"
   },
   "source": [
    "As well as commonly used matrix operations"
   ]
  },
  {
   "cell_type": "code",
   "execution_count": null,
   "metadata": {
    "id": "URAFgy2LpJQd"
   },
   "outputs": [],
   "source": [
    "A = np.array([[1, 0, 0], \n",
    "              [3, 1, 0],\n",
    "              [4, 0, 1]])\n",
    "B = np.array([[23, 10, 12],\n",
    "              [0, 0, 0],\n",
    "              [0, 0, 0]])\n",
    "\n",
    "print(\"A =\\n\", A, \"\\n\")\n",
    "print(\"b =\\n\", B, \"\\n\")\n",
    "\n",
    "# Matrix multiplication \n",
    "arr_mult = A @ B    # or\n",
    "arr_mult = np.matmul(A, B)\n",
    "print(\"A*B\\n\", arr_mult)\n",
    "\n",
    "# fun fact... The matrix A*B is known as a vampire matrix"
   ]
  },
  {
   "cell_type": "markdown",
   "metadata": {
    "id": "JintwYRPsNU8"
   },
   "source": [
    "#### Assignment 1g)"
   ]
  },
  {
   "cell_type": "code",
   "execution_count": null,
   "metadata": {
    "id": "SJAiERKTv02p"
   },
   "outputs": [],
   "source": [
    "M = np.array([[23, 10, 12],\n",
    "              [69, 30, 36],\n",
    "              [92, 40, 48]])\n",
    "\n",
    "\n",
    "# ASSIGNMENT: \n",
    "# a) Square a matrix M\n",
    "# b) Square the values in a Matrix M\n",
    "\n",
    "\n",
    "# Squaring the matrix\n",
    "\n",
    "# YOUR CODE HERE\n",
    "sqr_arr = None\n",
    "\n",
    "assert np.all(sqr_arr == np.array([[2323, 1010, 1212],\n",
    "                                  [6969, 3030, 3636],\n",
    "                                  [9292, 4040, 4848]]))\n",
    "\n",
    "# Square the values in an array\n",
    "\n",
    "# YOUR CODE HERE\n",
    "sqr_val = None\n",
    "\n",
    "assert np.all(sqr_val == np.array([[529,  100,  144],\n",
    "                                  [4761, 900, 1296],\n",
    "                                  [8464, 1600, 2304]]))"
   ]
  },
  {
   "cell_type": "markdown",
   "metadata": {
    "id": "r-PBaRU8s9C6"
   },
   "source": [
    "#### Assignment 1h)"
   ]
  },
  {
   "cell_type": "code",
   "execution_count": null,
   "metadata": {
    "id": "ujrfI9U0mJn-"
   },
   "outputs": [],
   "source": [
    "rand = np.random.RandomState(42)\n",
    "\n",
    "# ASSIGNMENT\n",
    "# Generate a random array of whole numbers between (0, 10) \n",
    "# with the size of 3x5. Then sort the array along the x-axis \n",
    "\n",
    "# YOUR CODE HERE\n",
    "arr = None\n",
    "\n",
    "\n",
    "assert np.all(arr == np.array([[3, 4, 6, 6, 7],\n",
    "                               [2, 4, 6, 7, 9],\n",
    "                               [2, 3, 5, 7, 7]]))"
   ]
  },
  {
   "cell_type": "code",
   "execution_count": null,
   "metadata": {
    "id": "1Dd9XxbFZZgO"
   },
   "outputs": [],
   "source": [
    "# Logical operations\n",
    "arr = np.array([1,2,3,4,5,6])\n",
    "filtered_arr = arr[(arr > 2) & (arr < 6)]\n",
    "print(filtered_arr)\n",
    "\n",
    "filtered_arr = arr[arr%2==0]\n",
    "print(filtered_arr)"
   ]
  },
  {
   "cell_type": "markdown",
   "metadata": {
    "id": "R0B6ye75tHIw"
   },
   "source": [
    "#### Assignment 1i)"
   ]
  },
  {
   "cell_type": "code",
   "execution_count": null,
   "metadata": {
    "id": "jsH9OchUKFmc"
   },
   "outputs": [],
   "source": [
    "# ASSIGNMENT: \n",
    "# Filter out duplicate AND odd numbers\n",
    "\n",
    "arr = np.array([1, 4, 2, 2, 3, 4, 4, 4, 2, 3, 4, 5, 6])\n",
    "\n",
    "# YOUR CODE HERE\n",
    "\n",
    "\n",
    "assert np.all(arr == np.array([2, 4, 6]))"
   ]
  },
  {
   "cell_type": "markdown",
   "metadata": {},
   "source": [
    "#### Assignment 1i)"
   ]
  },
  {
   "attachments": {},
   "cell_type": "markdown",
   "metadata": {
    "id": "PHsgsoS7dB9d"
   },
   "source": [
    "What is the difference between the following two statements?  \n",
    "a) \n",
    "```{python}\n",
    "arr1 = np.array([1, 2, 3])\n",
    "arr2 = arr1\n",
    "arr2[0] = 100\n",
    "```\n",
    "b)\n",
    "```{python}\n",
    "arr1 = np.array([1, 2, 3])\n",
    "arr2 = arr1.copy()\n",
    "arr2[0] = 100\n",
    "```\n",
    "\n",
    "\n",
    "**YOUR ANSWER**:   \n"
   ]
  },
  {
   "cell_type": "code",
   "execution_count": null,
   "metadata": {
    "id": "-hXv0HqTtXqO"
   },
   "outputs": [],
   "source": [
    "\"\"\"\n",
    "ASSIGNMENT:\n",
    "Your answer here...\n",
    "\n",
    "\n",
    "\"\"\""
   ]
  },
  {
   "cell_type": "markdown",
   "metadata": {
    "id": "XCQ7uNuPgEC9"
   },
   "source": [
    "### Random Walk"
   ]
  },
  {
   "cell_type": "markdown",
   "metadata": {
    "id": "y1xEK6_cto8Q"
   },
   "source": [
    "The task here is to create a random walk function and plot the result.  \n",
    "You will probably not find all the information of how to solve this task in the lab instructons entirely, so you will need to find the answer online.   \n",
    "A random walk is categorized as taking a random step in any number of directions and then accumumalating the distance one has taken.  \n",
    "<br>\n",
    "\n",
    "We want you to make a function which either steps up (+1) or down (-1) in each step (1D random walk) for a 1000 steps and aggrigate the result.\n",
    "If you for example walk [up, up, down, up, up, down, down, down], this corresponds to [1,1,-1,1,1,-1,-1,-1]. With the starting position 0 this will put you in position [1,2,1,2,3,2,1,0] for the different timesteps."
   ]
  },
  {
   "cell_type": "markdown",
   "metadata": {
    "id": "uG6TK-pOtpQq"
   },
   "source": [
    "#### Assignment 1k)"
   ]
  },
  {
   "cell_type": "code",
   "execution_count": null,
   "metadata": {
    "id": "fQgEdMz10a9_"
   },
   "outputs": [],
   "source": [
    "# ASSIGNMENT:\n",
    "# Complete the random walk function\n",
    "\n",
    "def random_walk(n=1000):\n",
    "    # YOUR CODE HERE\n",
    "    pass\n",
    "\n",
    "np.random.seed(7)\n",
    "steps = np.arange(1000)\n",
    "walk = random_walk(1000)"
   ]
  },
  {
   "cell_type": "markdown",
   "metadata": {
    "id": "NgTkpytF7ll_"
   },
   "source": [
    "To better illustrate what a random walk does, we can plot the results with a plotting library. For Python, the most commonly used plotting library is Matplotlib. We will discuss Matplotlib in greater detail in a section further on in the lab."
   ]
  },
  {
   "cell_type": "code",
   "execution_count": null,
   "metadata": {
    "colab": {
     "base_uri": "https://localhost:8080/",
     "height": 312
    },
    "id": "etn9QwQw-u9Z",
    "outputId": "852b0c4a-1e4f-4743-d0a9-d32845c21d51"
   },
   "outputs": [],
   "source": [
    "import matplotlib.pyplot as plt\n",
    "\n",
    "plt.figure()\n",
    "plt.plot(steps, walk)     \n",
    "plt.title(\"Random walks\")\n",
    "plt.ylabel(\"distance (d)\")\n",
    "plt.xlabel(\"steps (s)\")\n",
    "plt.show()"
   ]
  }
 ],
 "metadata": {
  "colab": {
   "collapsed_sections": [
    "2wVVgiDUfu8h"
   ],
   "name": "PracticalNotebook1.ipynb",
   "provenance": []
  },
  "kernelspec": {
   "display_name": "venv",
   "language": "python",
   "name": "python3"
  },
  "language_info": {
   "codemirror_mode": {
    "name": "ipython",
    "version": 3
   },
   "file_extension": ".py",
   "mimetype": "text/x-python",
   "name": "python",
   "nbconvert_exporter": "python",
   "pygments_lexer": "ipython3",
   "version": "3.12.4"
  }
 },
 "nbformat": 4,
 "nbformat_minor": 1
}
