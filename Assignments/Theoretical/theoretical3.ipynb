{
 "cells": [
  {
   "cell_type": "markdown",
   "metadata": {
    "colab_type": "text",
    "id": "4HoclwWLQe6s"
   },
   "source": [
    "# K-Means clustering\n",
    "\n",
    "Please read the comments in each code block. The comments provide instructions and there are places that you are expected to fill in your own code. In order to get familiar with scikit learn's library you are expected to read the documentation. In the comments for the code links have been provided.\n",
    "\n",
    "If you have followed [my instructions](http://user.it.uu.se/~justin/Hugo/post/python_notebooks_ml/) on setting up virtual environments, then you might not have skimiage or tqdm installed. You need to install the following packages\n",
    "```\n",
    "pip install scikit-image\n",
    "pip install tqdm\n",
    "```"
   ]
  },
  {
   "cell_type": "code",
   "execution_count": null,
   "metadata": {
    "ExecuteTime": {
     "end_time": "2021-01-21T08:01:04.333455Z",
     "start_time": "2021-01-21T08:01:04.327175Z"
    },
    "colab": {},
    "colab_type": "code",
    "deletable": false,
    "id": "3h8hgRd5_bL6"
   },
   "outputs": [],
   "source": [
    "# import stuff that we need\n",
    "import numpy as np\n",
    "import matplotlib as mpl\n",
    "import matplotlib.pyplot as plt\n",
    "import skimage\n",
    "import skimage.io as skio\n",
    "import tqdm as tq\n",
    "from tqdm import tqdm_notebook as tqdm"
   ]
  },
  {
   "cell_type": "markdown",
   "metadata": {
    "ExecuteTime": {
     "end_time": "2021-01-21T08:01:54.186426Z",
     "start_time": "2021-01-21T08:01:53.111942Z"
    },
    "colab": {
     "base_uri": "https://localhost:8080/",
     "height": 208
    },
    "colab_type": "code",
    "deletable": false,
    "id": "7n00DQEy_bMN",
    "outputId": "d21325e2-fc71-4d17-cd43-8925ab33eb96"
   },
   "source": [
    "We will work a particular image taken from Wikipedia. It is included in the repository as `talos.jpg`. The orginal can be downloaded from [wikimeda](https://upload.wikimedia.org/wikipedia/commons/thumb/5/50/Vaso_di_Talos_particolare.JPG/1920px-Vaso_di_Talos_particolare.JPG) be sure to save it as `talos.jpg`.\n"
   ]
  },
  {
   "cell_type": "markdown",
   "metadata": {
    "colab_type": "text",
    "deletable": false,
    "id": "wgS1ezPS_bMd"
   },
   "source": [
    "# Part 1 - K-Means clustering\n",
    "\n",
    "K-means clustering is an unsupervised method for finding clusters in data. There can be any amount of clusters and there can by any dimensions. Let's name the number of clusters K, and the number of dimensions D.\n",
    "The algorithm works as:\n",
    "\n",
    "1. Specify the number of clusters *k*\n",
    "2. Randomly initialize *k* centroids in the data. \n",
    "3. Assign each point to its closest centroid\n",
    "4. Compute the new centroids (mean) of each cluster\n",
    "5. Repeat 3 and 4 until cluster centers does not change or until a pre-defined number of iterations\n",
    "\n",
    "\n",
    "One special case of K-means is image compression, this will be the topic of this notebook.\n",
    "\n",
    "Let's start with an image. Load the image and standardize it, i.e scale the values to a range 0-1."
   ]
  },
  {
   "cell_type": "code",
   "execution_count": null,
   "metadata": {
    "ExecuteTime": {
     "end_time": "2020-02-19T14:03:20.687056Z",
     "start_time": "2020-02-19T14:03:19.580470Z"
    },
    "colab": {
     "base_uri": "https://localhost:8080/",
     "height": 511
    },
    "colab_type": "code",
    "id": "ARcJPyIm_bMh",
    "outputId": "475eaae3-a828-4d2c-b21d-30283e841930",
    "scrolled": false
   },
   "outputs": [],
   "source": [
    "# Loading the image\n",
    "# Documentation: https://scikit-image.org/docs/dev/api/skimage.io.html#skimage.io.imread\n",
    "# Load the image in a variable called \"image\"\n",
    "# STUDENT CODE HERE\n",
    "image = ...\n",
    "# STUDENT CODE ENDS\n",
    "\n",
    "# Standardization of the image (values go from the range 0-255 to 0-1)\n",
    "# Documentation: https://scikit-image.org/docs/dev/api/skimage.html#skimage.img_as_float32\n",
    "\n",
    "# Standardise the image\n",
    "# STUDENT CODE HERE\n",
    "image = ...\n",
    "# STUDENT CODE ENDS\n",
    "\n",
    "assert image.max() - 1.0 < 1e-7, \"The image must be standardized.\"\n",
    "\n",
    "# Plotting the image\n",
    "plt.figure(figsize=(10, 10))\n",
    "plt.title(\"Talos, the Automaton\")\n",
    "plt.imshow(image)\n",
    "plt.show()"
   ]
  },
  {
   "cell_type": "code",
   "execution_count": null,
   "metadata": {
    "colab": {
     "base_uri": "https://localhost:8080/",
     "height": 86
    },
    "colab_type": "code",
    "deletable": false,
    "id": "E-X8xuAM_bMr",
    "outputId": "7541e189-d0d5-4435-87de-a177f9769f76"
   },
   "outputs": [],
   "source": [
    "print(f\"Image width   : {image.shape[0]}\")\n",
    "print(f\"Image height  : {image.shape[1]}\")\n",
    "print(f\"Image channels: {image.shape[2]}\")\n",
    "print(f\"Image size    : {np.prod(image.shape)}\")"
   ]
  },
  {
   "cell_type": "markdown",
   "metadata": {
    "colab_type": "text",
    "deletable": false,
    "id": "kUw8VAPI_bM1"
   },
   "source": [
    "### Image Information:\n",
    "- **Width**: 1537 pixels\n",
    "- **Height**: 1920 pixels\n",
    "- **Channels**: RGB (Red, Green, Blue)\n",
    "- **Uncompressed Size Calculation**: \n",
    "    - Total pixels = Width × Height = 1537 × 1920 = 2,956,160 pixels\n",
    "    - Each pixel has 3 channels (RGB), so the total number of values = 2,956,160 × 3 = 8,868,480 values\n",
    "    - Each value is coded as a byte (8 bits), so the full uncompressed image size = 8,868,480 bytes or approximately 8.9 MB (megabytes).\n",
    "\n",
    "### Color Depth and Compression:\n",
    "- **Current Color Depth**: Each channel uses 8 bits, resulting in 24 bits per pixel (8 bits for Red, 8 for Green, and 8 for Blue). This allows for 2^24(around 16 milion) different colors.\n",
    "- **Reducing Colors for Compression**: \n",
    "    - By choosing a palette with K colors (e.g., 16), the image would be restricted to only 16 different colors.\n",
    "    - With a palette of 16 colors, each pixel can be represented using 4 bits (as 2^4 = 16). This is significantly smaller compared to the original 24 bits per pixel.\n",
    "- **Compression Factor**: \n",
    "    - Reducing from 24 bits (RGB) to 4 bits (with a palette of 16 colors) results in a compression factor of 83%.\n",
    "    - The reduction in bits per pixel leads to a smaller file size while sacrificing some color fidelity.\n",
    "\n",
    "But first, let's reshape the data to be able to display the RGB data in 3-dimensions and discard some data for faster computations."
   ]
  },
  {
   "cell_type": "code",
   "execution_count": null,
   "metadata": {
    "ExecuteTime": {
     "end_time": "2020-02-19T14:16:31.375641Z",
     "start_time": "2020-02-19T14:16:31.273834Z"
    },
    "colab": {
     "base_uri": "https://localhost:8080/",
     "height": 86
    },
    "colab_type": "code",
    "id": "MKOu8vns_bM3",
    "outputId": "ef5bc558-a07d-4d63-c240-da4fc76eae82"
   },
   "outputs": [],
   "source": [
    "# This steps reshape the image in the format (N, D) for N points in D dimensions.\n",
    "# D will always be 3 since we will only deal with RGB images today.\n",
    "pixels = image.reshape(-1, 3)\n",
    "print(\"Pixels array shape                   :\", pixels.shape)\n",
    "\n",
    "# There are 2 951 040 pixels in 3 dimensions, which is A LOT!\n",
    "# If you have too much data, algorithms will be slow, and displaying the data can take forever (literally).\n",
    "# So let's keep 0.1% of them (in other words randomly discard 99.9%)\n",
    "# Documentation: https://docs.scipy.org/doc/numpy-1.14.0/reference/generated/numpy.random.rand.html\n",
    "\n",
    "# Create a variable \"keep\" of size pixels.shape[0] that contains a random binary mask with 0.1% of True's.\n",
    "# Make sure it is a numpy array\n",
    "\n",
    "# STUDENT CODE HERE\n",
    "\n",
    "\n",
    "# STUDENT CODE ENDS\n",
    "\n",
    "assert keep.dtype == bool, \"keep must be containing booleans\"\n",
    "assert len(keep) == pixels.shape[0], \"keep has the wrong shape, it should be pixels.shape[0]\"\n",
    "assert (np.unique(keep) == [False, True]).all(), \"keep must only contain True/False values\"\n",
    "# Now the smaller dataset is named pixels_small\n",
    "pixels_small = pixels[keep]\n",
    "print(\"Pixels array shape (after discarding):\", pixels_small.shape)\n",
    "print(f\"Reduction in size                    : {1-pixels_small.shape[0]/pixels.shape[0]:.1%}\")"
   ]
  },
  {
   "cell_type": "code",
   "execution_count": null,
   "metadata": {
    "colab": {},
    "colab_type": "code",
    "deletable": false,
    "id": "yF3E0lbU_bNA",
    "outputId": "e33cca82-33a2-4dda-b1e3-cccdd7378b31",
    "scrolled": false
   },
   "outputs": [],
   "source": [
    "\"\"\"\n",
    "Now that we have the image collapsed in a list of pixels, it is possible\n",
    "to display each individual pixel in 3D, just by connecting the RGB intensities\n",
    "to the axis X, Y, Z.\n",
    "\"\"\"\n",
    "from mpl_toolkits.mplot3d import Axes3D\n",
    "fig = plt.figure(figsize=(10, 10))\n",
    "ax = fig.add_subplot(111, projection=\"3d\")\n",
    "ax.scatter(*pixels_small.T, color=pixels_small)\n",
    "ax.set_xlabel(\"Red channel\")\n",
    "ax.set_ylabel(\"Green channel\")\n",
    "ax.set_zlabel(\"Blue channel\")\n",
    "plt.title(\"3D projection of the RGB pixels\")\n",
    "plt.show()"
   ]
  },
  {
   "cell_type": "markdown",
   "metadata": {
    "colab_type": "text",
    "deletable": false,
    "id": "pMTHMhsK_bNH"
   },
   "source": [
    "## Step 1: Computing distances\n",
    "\n",
    "The first step consist of computing the euclidean distance between two sets of points which we will later use in the k-means algorithm. The eucledian distance between two points $p$ and $q$ is given by\n",
    "\n",
    "$$d = \\sqrt{(q-p)^2} $$\n",
    "which for multiple dimensions extends to\n",
    "\n",
    "$$d = \\sqrt{(q_1-p_1)^2 + (q_2-p_2)^2 + (q_3-p_3)^2 + ...  + (q_n-p_n)^2} $$"
   ]
  },
  {
   "cell_type": "code",
   "execution_count": null,
   "metadata": {
    "ExecuteTime": {
     "end_time": "2020-02-19T13:23:15.634470Z",
     "start_time": "2020-02-19T13:23:15.620800Z"
    },
    "colab": {},
    "colab_type": "code",
    "id": "fVgGopai_bNf"
   },
   "outputs": [],
   "source": [
    "def euclidean_dist(a, b):\n",
    "    \"\"\"Computes the euclidean distance between two sets of D-dimensional points.\n",
    "    \n",
    "    Args:\n",
    "        a (array): A list of points of shape (N, D).\n",
    "        b (array): A list of points of shape (M, D).\n",
    "    \n",
    "    Returns:\n",
    "        (array): An array of shape (N, M) containing all the pairwise distances between each point of a and b.\n",
    "    \"\"\"\n",
    "    # If a or b are python lists, they are transformed into numpy arrays.\n",
    "    if isinstance(a, list): a = np.array(a)\n",
    "    if isinstance(b, list): b = np.array(b)\n",
    "    assert a.ndim == 2 and b.ndim == 2, \"a and b must be 2-dimensional arrays.\"\n",
    "    assert a.shape[1] == b.shape[1], \"a and b must have the same dimension D.\"\n",
    "    \n",
    "    N = a.shape[0]\n",
    "    M = b.shape[0]\n",
    "    D = a.shape[1]\n",
    "    distances = np.ones((N, M))\n",
    "    \n",
    "    # Fill in the matrix \"distances\" so that it contains the pairwise distances between the point set a and b.\n",
    "    # Advice: try using only two nested for-loops, for speed's sake.\n",
    "\n",
    "    # STUDENT CODE HERE\n",
    "\n",
    "    # STUDENT CODE ENDS\n",
    "    \n",
    "    return distances"
   ]
  },
  {
   "cell_type": "code",
   "execution_count": null,
   "metadata": {
    "colab": {},
    "colab_type": "code",
    "deletable": false,
    "id": "3YoLfx8r_bNn"
   },
   "outputs": [],
   "source": [
    "# Testing the euclidean distance\n",
    "assert euclidean_dist([[0]], [[1]]) == 1, \"Unit test 1 failed.\"\n",
    "assert euclidean_dist([[0, 0, 0]], [[1, 1, 1]]) == np.sqrt(3), \"Unit test 2 failed.\"\n",
    "np.random.seed(0)\n",
    "random_array1 = np.random.rand(10, 4)\n",
    "random_array2 = np.random.rand(10, 4)\n",
    "assert np.abs(euclidean_dist(random_array1, random_array2).mean() - 0.8897) < 1e-4, \"Unit test 3 failed.\""
   ]
  },
  {
   "cell_type": "code",
   "execution_count": null,
   "metadata": {
    "colab": {},
    "colab_type": "code",
    "deletable": false,
    "editable": false,
    "id": "GmkxVFdr_bNv",
    "outputId": "980066dd-0218-4c8a-aa06-b89166d0cdea",
    "scrolled": false
   },
   "outputs": [],
   "source": [
    "# We will test the euclidean function by picking a random pixel\n",
    "# and checking its distance with all the other pixels in the image.\n",
    "# you can choose to modify \"random_pixel\" to a specific pixel or\n",
    "# position in the 3D space.\n",
    "N = pixels_small.shape[0]\n",
    "random_index = np.random.randint(N)\n",
    "random_pixel = np.array([pixels_small[random_index]])\n",
    "\n",
    "# Computing all the distances\n",
    "distances = euclidean_dist(random_pixel, pixels_small)[0]\n",
    "# The distances are normalised to be between 0 and 1.\n",
    "distances /= distances.max()\n",
    "import mpl_toolkits.mplot3d.art3d as art3d\n",
    "\n",
    "fig = plt.figure(figsize=(12, 10))\n",
    "ax = fig.add_subplot(111, projection=\"3d\")\n",
    "p = ax.scatter(*pixels_small.T, c=distances)\n",
    "fig.colorbar(p, fraction=0.03)\n",
    "ax.set_xlabel(\"Red channel\")\n",
    "ax.set_ylabel(\"Green channel\")\n",
    "ax.set_zlabel(\"Blue channel\")\n",
    "plt.title(\"Distance between a random pixel and all the others\")\n",
    "plt.show()"
   ]
  },
  {
   "cell_type": "markdown",
   "metadata": {
    "colab_type": "text",
    "deletable": false,
    "id": "2dQ-5OBU_bN2"
   },
   "source": [
    "## KMeans clustering\n",
    "\n",
    "Now lets implement the k-means algorithm. We will construct a class that has two functions. One for fitting the data, i.e iterativly finds the optimal cluster centers and one for predicting data points into the respective clusters."
   ]
  },
  {
   "cell_type": "code",
   "execution_count": null,
   "metadata": {
    "ExecuteTime": {
     "end_time": "2020-02-19T13:24:42.024932Z",
     "start_time": "2020-02-19T13:24:42.011128Z"
    },
    "colab": {},
    "colab_type": "code",
    "id": "lJ7QjH_H_bN5"
   },
   "outputs": [],
   "source": [
    "# The following part needs to be implemented by you.\n",
    "class KMeans:\n",
    "    \"\"\" K-Means Algorithm. \"\"\"\n",
    "\n",
    "    def __init__(self, K, D):\n",
    "        \"\"\"Initialisation of the KMeans algorithm.\n",
    "        Args:\n",
    "            K (int): The number of clusters to use.\n",
    "            D (int): The number of dimensions\n",
    "        \"\"\"\n",
    "        self.K = K\n",
    "        self.D = D\n",
    "        # Initialise the clusters to zero\n",
    "        self.clusters = np.zeros((K, D))\n",
    "    \n",
    "    def fit(self, data, iterations=5):\n",
    "        \"\"\"Trains the algorithm and iteratively refines the clusters' positions.\n",
    "        \n",
    "        Args:\n",
    "            data (array): The data points to cluster, shape must be (N, D)\n",
    "            iterations (int): The number of iterations of the K-means algorithm.\n",
    "        \n",
    "        Note:\n",
    "            The algorithm updates the member variable \"clusters\".\n",
    "        \"\"\"\n",
    "        assert data.ndim == 2 and data.shape[1] == self.D, \"The data should have the shape (N, D).\"\n",
    "        assert iterations > 0, \"The number of iterations should be positive.\"\n",
    "        # Starting the algorithm\n",
    "        N = data.shape[0] # Number of points in the data\n",
    "\n",
    "        # [CODE HERE] Update the clusters in function of the data\n",
    "        # 1. Pick K random points from the data and use them as starting position for the clusters.\n",
    "        \n",
    "        # 2. Compute the distances between the data and the clusters\n",
    "\n",
    "        # 3. Associate each data point to the nearest cluster\n",
    "\n",
    "        # 4. For each cluster\n",
    "\n",
    "        # 5. Gather all the points in the cluster\n",
    "\n",
    "        # 6. Compute the mean value of the cluster\n",
    "\n",
    "        # 7. Update of the position of the cluster\n",
    "\n",
    "        # STUDENT CODE HERE\n",
    "\n",
    "        # self.clusters[i] = mean_value\n",
    "\n",
    "        # STUDENT CODE ENDS\n",
    "    \n",
    "    def predict(self, data):\n",
    "        \"\"\"Predicts the cluster id for each of the\n",
    "        \n",
    "        Args:\n",
    "            data (array): The data points to cluster, shape must be (N, D)\n",
    "        \n",
    "        Returns:\n",
    "            (list of int): The id of the cluster of each of the data points, shape is N.\n",
    "        \"\"\"\n",
    "        assert data.ndim == 2 and data.shape[1] == self.D, \"The data should have the shape (N, D).\"\n",
    "        \n",
    "        # Update the clusters in function of the data\n",
    "        # 1. Compute the distances between data and the clusters.\n",
    "        # STUDENT CODE HERE\n",
    "\n",
    "        # STUDENT CODE ENDS\n",
    "\n",
    "        # 2. The datapoints are associated to each clusters.\n",
    "        # STUDENT CODE HERE\n",
    "\n",
    "        # STUDENT CODE ENDS\n",
    "\n",
    "        return clustered_points"
   ]
  },
  {
   "cell_type": "code",
   "execution_count": null,
   "metadata": {
    "ExecuteTime": {
     "end_time": "2020-02-19T14:23:36.948150Z",
     "start_time": "2020-02-19T14:23:36.922342Z"
    },
    "colab": {},
    "colab_type": "code",
    "id": "1QMVFHvv_bOC"
   },
   "outputs": [],
   "source": [
    "# Choose a number of clusters\n",
    "K = 16\n",
    "kmeans = KMeans(K=K, D=3)\n",
    "kmeans.fit(pixels_small, iterations=30)"
   ]
  },
  {
   "cell_type": "code",
   "execution_count": null,
   "metadata": {
    "colab": {},
    "colab_type": "code",
    "deletable": false,
    "id": "IJNSn_3D_bOK",
    "outputId": "98fbc19b-d27c-4074-cd26-3cf38e935521",
    "scrolled": false
   },
   "outputs": [],
   "source": [
    "\"\"\"\n",
    "Again, we show the 3D projection of the RGB pixels, along with the position of the learnt clusters.\n",
    "\"\"\"\n",
    "from mpl_toolkits.mplot3d import Axes3D\n",
    "fig = plt.figure(figsize=(10, 10))\n",
    "ax = fig.add_subplot(111, projection=\"3d\")\n",
    "ax.scatter(*pixels_small.T, color=pixels_small, alpha=0.1)\n",
    "ax.scatter(*kmeans.clusters.T, s=200, color=\"red\", marker=\"*\", depthshade=False, label=\"Clusters\")\n",
    "ax.set_xlabel(\"Red channel\")\n",
    "ax.set_ylabel(\"Green channel\")\n",
    "ax.set_zlabel(\"Blue channel\")\n",
    "plt.legend()\n",
    "plt.show()"
   ]
  },
  {
   "cell_type": "markdown",
   "metadata": {
    "colab_type": "text",
    "deletable": false,
    "id": "U4jie7nI_bOc"
   },
   "source": [
    "## Clustering the image\n",
    "\n",
    "Now let's test cluster the rest of the pixels in the image and assing new colors i.e compress the image. This might take a while"
   ]
  },
  {
   "cell_type": "code",
   "execution_count": null,
   "metadata": {
    "ExecuteTime": {
     "end_time": "2020-02-19T13:25:42.814774Z",
     "start_time": "2020-02-19T13:25:41.215967Z"
    },
    "colab": {},
    "colab_type": "code",
    "id": "X6R_Ojmo_bOe"
   },
   "outputs": [],
   "source": [
    "# We take the original image (we dropped a lot of pixels in the beginning, remember?), as\n",
    "# we will compress the full sized image.\n",
    "# We already trained the kmeans algorithm by calling fit before.\n",
    "# Each of the pixels of the big image is associated to a specific cluster.\n",
    "clustered_image = kmeans.predict(pixels)\n",
    "\n",
    "# We now need to determine which color is given to each cluster. In this case\n",
    "# we will take the mean.\n",
    "# Constructing the palette\n",
    "palette = np.empty((kmeans.K, kmeans.D))\n",
    "# For each cluster\n",
    "for i in range(kmeans.K):\n",
    "    # We take the pixels belonging to the ith cluster.\n",
    "    cluster = pixels[clustered_image == i]\n",
    "    # We compute the average color for the cluster\n",
    "    color = cluster.mean(axis=0)\n",
    "    # The ith color of the palette is set.\n",
    "    palette[i] = color"
   ]
  },
  {
   "cell_type": "code",
   "execution_count": null,
   "metadata": {
    "ExecuteTime": {
     "end_time": "2020-02-19T13:25:49.022622Z",
     "start_time": "2020-02-19T13:25:47.889016Z"
    },
    "colab": {},
    "colab_type": "code",
    "id": "tje3WumG_bOl",
    "outputId": "dab53da5-99fd-40b4-ca91-c3bbc0ddb850"
   },
   "outputs": [],
   "source": [
    "fig, ax = plt.subplots(1, kmeans.K, figsize=(2*kmeans.K, 3))\n",
    "fig.suptitle(\"Palette\")\n",
    "for i in range(kmeans.K):\n",
    "    ax[i].set_title(f\"Cluster {i+1}\")\n",
    "    ax[i].imshow(palette[i].reshape(1, 1, kmeans.D), interpolation=\"None\")\n",
    "    ax[i].axis(\"off\")\n",
    "plt.show()"
   ]
  },
  {
   "cell_type": "code",
   "execution_count": null,
   "metadata": {
    "ExecuteTime": {
     "end_time": "2020-02-19T13:25:57.261903Z",
     "start_time": "2020-02-19T13:25:57.253246Z"
    },
    "colab": {},
    "colab_type": "code",
    "id": "N_VlZhK5_bOr"
   },
   "outputs": [],
   "source": [
    "def cluster2image(image, palette, imshape):\n",
    "    \"\"\"Constructs an RGB image from the clustered pixels and a palette.\n",
    "    \n",
    "    Args:\n",
    "        image (list of int): a list of clustered pixels, shape (N).\n",
    "        palette (array): a list of K different colors.\n",
    "        imshape: the 2D shape of the image to create.\n",
    "    \"\"\"\n",
    "    assert image.ndim == 1, \"The image must have only one dimension.\"\n",
    "    assert palette.ndim == 2, \"The palette must have two dimensions.\"\n",
    "    assert isinstance(imshape, tuple), \"imshape must be a tuple.\"\n",
    "\n",
    "    N = image.shape[0]\n",
    "    K, D = palette.shape\n",
    "\n",
    "    final_image = np.empty((N, D))\n",
    "    for i in range(K):\n",
    "        cluster = image == i\n",
    "        for j in range(D):\n",
    "            final_image[cluster, j] = palette[i, j]\n",
    "    \n",
    "    return final_image.reshape(imshape)"
   ]
  },
  {
   "cell_type": "code",
   "execution_count": null,
   "metadata": {
    "ExecuteTime": {
     "end_time": "2020-02-19T13:25:58.997419Z",
     "start_time": "2020-02-19T13:25:57.738641Z"
    },
    "colab": {},
    "colab_type": "code",
    "id": "K49iiHT6_bOv"
   },
   "outputs": [],
   "source": [
    "final_image = cluster2image(clustered_image, palette, image.shape)\n",
    "fig, ax = plt.subplots(1, 2, figsize=(20, 10))\n",
    "ax[0].set_title(\"Original image\")\n",
    "ax[0].imshow(image)\n",
    "ax[1].set_title(\"Compressed image\")\n",
    "ax[1].imshow(final_image)\n",
    "plt.show()"
   ]
  }
 ],
 "metadata": {
  "celltoolbar": "Edit Metadata",
  "colab": {
   "collapsed_sections": [],
   "name": "IML-Lab2.ipynb",
   "provenance": []
  },
  "kernelspec": {
   "display_name": "venv",
   "language": "python",
   "name": "python3"
  },
  "language_info": {
   "codemirror_mode": {
    "name": "ipython",
    "version": 3
   },
   "file_extension": ".py",
   "mimetype": "text/x-python",
   "name": "python",
   "nbconvert_exporter": "python",
   "pygments_lexer": "ipython3",
   "version": "3.12.4"
  }
 },
 "nbformat": 4,
 "nbformat_minor": 1
}
